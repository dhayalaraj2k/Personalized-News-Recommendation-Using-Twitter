{
 "cells": [
  {
   "cell_type": "code",
   "execution_count": 1,
   "metadata": {},
   "outputs": [],
   "source": [
    "import pandas as pd\n",
    "import numpy as np\n",
    "import os\n",
    "pd.set_option(\"display.max_rows\", None, \"display.max_columns\", None)\n",
    "\n",
    "import warnings\n",
    "warnings.filterwarnings('ignore')"
   ]
  },
  {
   "cell_type": "code",
   "execution_count": 2,
   "metadata": {},
   "outputs": [
    {
     "data": {
      "text/html": [
       "<div>\n",
       "<style scoped>\n",
       "    .dataframe tbody tr th:only-of-type {\n",
       "        vertical-align: middle;\n",
       "    }\n",
       "\n",
       "    .dataframe tbody tr th {\n",
       "        vertical-align: top;\n",
       "    }\n",
       "\n",
       "    .dataframe thead th {\n",
       "        text-align: right;\n",
       "    }\n",
       "</style>\n",
       "<table border=\"1\" class=\"dataframe\">\n",
       "  <thead>\n",
       "    <tr style=\"text-align: right;\">\n",
       "      <th></th>\n",
       "      <th>id</th>\n",
       "      <th>topic</th>\n",
       "      <th>tweet</th>\n",
       "      <th>tweet_id</th>\n",
       "    </tr>\n",
       "  </thead>\n",
       "  <tbody>\n",
       "    <tr>\n",
       "      <th>0</th>\n",
       "      <td>0</td>\n",
       "      <td>Politics</td>\n",
       "      <td>there are also events being organised where re...</td>\n",
       "      <td>1371132765513478149</td>\n",
       "    </tr>\n",
       "    <tr>\n",
       "      <th>1</th>\n",
       "      <td>1</td>\n",
       "      <td>India</td>\n",
       "      <td>the uae had in 2016 created the post of minist...</td>\n",
       "      <td>1371132764955635720</td>\n",
       "    </tr>\n",
       "    <tr>\n",
       "      <th>2</th>\n",
       "      <td>2</td>\n",
       "      <td>India</td>\n",
       "      <td>aiadmk releases manifesto for upcoming #tamiln...</td>\n",
       "      <td>1371132734500839427</td>\n",
       "    </tr>\n",
       "    <tr>\n",
       "      <th>3</th>\n",
       "      <td>3</td>\n",
       "      <td>Covid 19</td>\n",
       "      <td>#punjab chief secretary vini mahajan on sunday...</td>\n",
       "      <td>1371132599310057481</td>\n",
       "    </tr>\n",
       "    <tr>\n",
       "      <th>4</th>\n",
       "      <td>4</td>\n",
       "      <td>Finance</td>\n",
       "      <td>rt : #indvseng\\r\\n\\r\\nwhen ishan kishan burst ...</td>\n",
       "      <td>1371132221705261058</td>\n",
       "    </tr>\n",
       "  </tbody>\n",
       "</table>\n",
       "</div>"
      ],
      "text/plain": [
       "   id     topic                                              tweet  \\\n",
       "0   0  Politics  there are also events being organised where re...   \n",
       "1   1     India  the uae had in 2016 created the post of minist...   \n",
       "2   2     India  aiadmk releases manifesto for upcoming #tamiln...   \n",
       "3   3  Covid 19  #punjab chief secretary vini mahajan on sunday...   \n",
       "4   4   Finance  rt : #indvseng\\r\\n\\r\\nwhen ishan kishan burst ...   \n",
       "\n",
       "              tweet_id  \n",
       "0  1371132765513478149  \n",
       "1  1371132764955635720  \n",
       "2  1371132734500839427  \n",
       "3  1371132599310057481  \n",
       "4  1371132221705261058  "
      ]
     },
     "execution_count": 2,
     "metadata": {},
     "output_type": "execute_result"
    }
   ],
   "source": [
    "tweets = pd.read_csv('tweets.csv',sep=',',names=['id','topic','tweet','tweet_id'])\n",
    "# tweets.columns=\n",
    "# posts.rename(columns={'_id':'post_id', ' title':'title'}, inplace=True)\n",
    "# posts.content.fillna(\"General\", inplace = True) \n",
    "tweets.head()"
   ]
  },
  {
   "cell_type": "code",
   "execution_count": 3,
   "metadata": {},
   "outputs": [
    {
     "data": {
      "text/html": [
       "<div>\n",
       "<style scoped>\n",
       "    .dataframe tbody tr th:only-of-type {\n",
       "        vertical-align: middle;\n",
       "    }\n",
       "\n",
       "    .dataframe tbody tr th {\n",
       "        vertical-align: top;\n",
       "    }\n",
       "\n",
       "    .dataframe thead th {\n",
       "        text-align: right;\n",
       "    }\n",
       "</style>\n",
       "<table border=\"1\" class=\"dataframe\">\n",
       "  <thead>\n",
       "    <tr style=\"text-align: right;\">\n",
       "      <th></th>\n",
       "      <th>id</th>\n",
       "      <th>topic</th>\n",
       "      <th>headline</th>\n",
       "      <th>article</th>\n",
       "    </tr>\n",
       "  </thead>\n",
       "  <tbody>\n",
       "    <tr>\n",
       "      <th>0</th>\n",
       "      <td>0</td>\n",
       "      <td>Technology</td>\n",
       "      <td>Porn star jokes she could post nudes on Insta ...</td>\n",
       "      <td>Porn star Kendra Sunderland's Instagram accoun...</td>\n",
       "    </tr>\n",
       "    <tr>\n",
       "      <th>1</th>\n",
       "      <td>1</td>\n",
       "      <td>Buisness</td>\n",
       "      <td>Satellite pics show remains of SpaceX's rocket...</td>\n",
       "      <td>Satellite images showed the remains of Elon Mu...</td>\n",
       "    </tr>\n",
       "    <tr>\n",
       "      <th>2</th>\n",
       "      <td>2</td>\n",
       "      <td>Politics</td>\n",
       "      <td>Not in favour of recommending such games: Top ...</td>\n",
       "      <td>National Commission for Protection of Child Ri...</td>\n",
       "    </tr>\n",
       "    <tr>\n",
       "      <th>3</th>\n",
       "      <td>3</td>\n",
       "      <td>Covid 19</td>\n",
       "      <td>Researchers develop first AI tool to detect CO...</td>\n",
       "      <td>A team of researchers from the University of V...</td>\n",
       "    </tr>\n",
       "    <tr>\n",
       "      <th>4</th>\n",
       "      <td>4</td>\n",
       "      <td>Buisness</td>\n",
       "      <td>Virgin Galactic's test space flight cut short ...</td>\n",
       "      <td>Richard Branson's space tourism company Virgin...</td>\n",
       "    </tr>\n",
       "  </tbody>\n",
       "</table>\n",
       "</div>"
      ],
      "text/plain": [
       "   id       topic                                           headline  \\\n",
       "0   0  Technology  Porn star jokes she could post nudes on Insta ...   \n",
       "1   1    Buisness  Satellite pics show remains of SpaceX's rocket...   \n",
       "2   2    Politics  Not in favour of recommending such games: Top ...   \n",
       "3   3    Covid 19  Researchers develop first AI tool to detect CO...   \n",
       "4   4    Buisness  Virgin Galactic's test space flight cut short ...   \n",
       "\n",
       "                                             article  \n",
       "0  Porn star Kendra Sunderland's Instagram accoun...  \n",
       "1  Satellite images showed the remains of Elon Mu...  \n",
       "2  National Commission for Protection of Child Ri...  \n",
       "3  A team of researchers from the University of V...  \n",
       "4  Richard Branson's space tourism company Virgin...  "
      ]
     },
     "execution_count": 3,
     "metadata": {},
     "output_type": "execute_result"
    }
   ],
   "source": [
    "news = pd.read_csv('news.csv',sep=',',names=['id','topic','headline','article'])\n",
    "news.head()"
   ]
  },
  {
   "cell_type": "code",
   "execution_count": 4,
   "metadata": {},
   "outputs": [
    {
     "name": "stdout",
     "output_type": "stream",
     "text": [
      "(203, 4)\n",
      "<class 'pandas.core.frame.DataFrame'>\n",
      "RangeIndex: 203 entries, 0 to 202\n",
      "Data columns (total 4 columns):\n",
      " #   Column    Non-Null Count  Dtype \n",
      "---  ------    --------------  ----- \n",
      " 0   id        203 non-null    int64 \n",
      " 1   topic     203 non-null    object\n",
      " 2   tweet     203 non-null    object\n",
      " 3   tweet_id  203 non-null    int64 \n",
      "dtypes: int64(2), object(2)\n",
      "memory usage: 6.5+ KB\n"
     ]
    }
   ],
   "source": [
    "print(tweets.shape)\n",
    "tweets.info()"
   ]
  },
  {
   "cell_type": "code",
   "execution_count": 5,
   "metadata": {},
   "outputs": [
    {
     "name": "stdout",
     "output_type": "stream",
     "text": [
      "(1563, 4)\n",
      "<class 'pandas.core.frame.DataFrame'>\n",
      "RangeIndex: 1563 entries, 0 to 1562\n",
      "Data columns (total 4 columns):\n",
      " #   Column    Non-Null Count  Dtype \n",
      "---  ------    --------------  ----- \n",
      " 0   id        1563 non-null   int64 \n",
      " 1   topic     1563 non-null   object\n",
      " 2   headline  1563 non-null   object\n",
      " 3   article   1563 non-null   object\n",
      "dtypes: int64(1), object(3)\n",
      "memory usage: 49.0+ KB\n"
     ]
    }
   ],
   "source": [
    "print(news.shape)\n",
    "news.info()"
   ]
  },
  {
   "cell_type": "code",
   "execution_count": 6,
   "metadata": {},
   "outputs": [
    {
     "data": {
      "text/html": [
       "<div>\n",
       "<style scoped>\n",
       "    .dataframe tbody tr th:only-of-type {\n",
       "        vertical-align: middle;\n",
       "    }\n",
       "\n",
       "    .dataframe tbody tr th {\n",
       "        vertical-align: top;\n",
       "    }\n",
       "\n",
       "    .dataframe thead th {\n",
       "        text-align: right;\n",
       "    }\n",
       "</style>\n",
       "<table border=\"1\" class=\"dataframe\">\n",
       "  <thead>\n",
       "    <tr style=\"text-align: right;\">\n",
       "      <th></th>\n",
       "      <th>user_id</th>\n",
       "      <th>email</th>\n",
       "      <th>name</th>\n",
       "      <th>password</th>\n",
       "      <th>username</th>\n",
       "    </tr>\n",
       "  </thead>\n",
       "  <tbody>\n",
       "    <tr>\n",
       "      <th>0</th>\n",
       "      <td>1</td>\n",
       "      <td>dhayalaraj2k@gmail.com</td>\n",
       "      <td>Dhayalaraj</td>\n",
       "      <td>Dhayalaraj@1</td>\n",
       "      <td>Dhayalaraj</td>\n",
       "    </tr>\n",
       "    <tr>\n",
       "      <th>1</th>\n",
       "      <td>2</td>\n",
       "      <td>sriman@gmail.com</td>\n",
       "      <td>Sriman</td>\n",
       "      <td>sriman</td>\n",
       "      <td>Sriman</td>\n",
       "    </tr>\n",
       "    <tr>\n",
       "      <th>2</th>\n",
       "      <td>3</td>\n",
       "      <td>anand@gmail.com</td>\n",
       "      <td>Anand</td>\n",
       "      <td>anand</td>\n",
       "      <td>Anand</td>\n",
       "    </tr>\n",
       "    <tr>\n",
       "      <th>3</th>\n",
       "      <td>4</td>\n",
       "      <td>lokesh@gmail.com</td>\n",
       "      <td>Lokesh</td>\n",
       "      <td>lokesh</td>\n",
       "      <td>Lokesh</td>\n",
       "    </tr>\n",
       "    <tr>\n",
       "      <th>4</th>\n",
       "      <td>5</td>\n",
       "      <td>vishnu@gmail.com</td>\n",
       "      <td>Vishnu</td>\n",
       "      <td>vishnu</td>\n",
       "      <td>Vishnu</td>\n",
       "    </tr>\n",
       "  </tbody>\n",
       "</table>\n",
       "</div>"
      ],
      "text/plain": [
       "   user_id                   email        name      password    username\n",
       "0        1  dhayalaraj2k@gmail.com  Dhayalaraj  Dhayalaraj@1  Dhayalaraj\n",
       "1        2        sriman@gmail.com      Sriman        sriman      Sriman\n",
       "2        3         anand@gmail.com       Anand         anand       Anand\n",
       "3        4        lokesh@gmail.com      Lokesh        lokesh      Lokesh\n",
       "4        5        vishnu@gmail.com      Vishnu        vishnu      Vishnu"
      ]
     },
     "execution_count": 6,
     "metadata": {},
     "output_type": "execute_result"
    }
   ],
   "source": [
    "users = pd.read_csv('user.csv', sep=',', names=['user_id','email','name','password','username'])\n",
    "# users.columns=[]\n",
    "users.head()"
   ]
  },
  {
   "cell_type": "code",
   "execution_count": 7,
   "metadata": {},
   "outputs": [
    {
     "name": "stdout",
     "output_type": "stream",
     "text": [
      "(10, 5)\n",
      "<class 'pandas.core.frame.DataFrame'>\n",
      "RangeIndex: 10 entries, 0 to 9\n",
      "Data columns (total 5 columns):\n",
      " #   Column    Non-Null Count  Dtype \n",
      "---  ------    --------------  ----- \n",
      " 0   user_id   10 non-null     int64 \n",
      " 1   email     10 non-null     object\n",
      " 2   name      10 non-null     object\n",
      " 3   password  10 non-null     object\n",
      " 4   username  10 non-null     object\n",
      "dtypes: int64(1), object(4)\n",
      "memory usage: 528.0+ bytes\n"
     ]
    }
   ],
   "source": [
    "print(users.shape)\n",
    "users.info()"
   ]
  },
  {
   "cell_type": "code",
   "execution_count": 8,
   "metadata": {},
   "outputs": [
    {
     "data": {
      "text/html": [
       "<div>\n",
       "<style scoped>\n",
       "    .dataframe tbody tr th:only-of-type {\n",
       "        vertical-align: middle;\n",
       "    }\n",
       "\n",
       "    .dataframe tbody tr th {\n",
       "        vertical-align: top;\n",
       "    }\n",
       "\n",
       "    .dataframe thead th {\n",
       "        text-align: right;\n",
       "    }\n",
       "</style>\n",
       "<table border=\"1\" class=\"dataframe\">\n",
       "  <thead>\n",
       "    <tr style=\"text-align: right;\">\n",
       "      <th></th>\n",
       "      <th>id</th>\n",
       "      <th>user_id</th>\n",
       "      <th>tweet_id</th>\n",
       "      <th>like</th>\n",
       "    </tr>\n",
       "  </thead>\n",
       "  <tbody>\n",
       "    <tr>\n",
       "      <th>0</th>\n",
       "      <td>0</td>\n",
       "      <td>1</td>\n",
       "      <td>3</td>\n",
       "      <td>1</td>\n",
       "    </tr>\n",
       "    <tr>\n",
       "      <th>1</th>\n",
       "      <td>1</td>\n",
       "      <td>1</td>\n",
       "      <td>11</td>\n",
       "      <td>1</td>\n",
       "    </tr>\n",
       "    <tr>\n",
       "      <th>2</th>\n",
       "      <td>2</td>\n",
       "      <td>1</td>\n",
       "      <td>24</td>\n",
       "      <td>0</td>\n",
       "    </tr>\n",
       "    <tr>\n",
       "      <th>3</th>\n",
       "      <td>3</td>\n",
       "      <td>1</td>\n",
       "      <td>30</td>\n",
       "      <td>1</td>\n",
       "    </tr>\n",
       "    <tr>\n",
       "      <th>4</th>\n",
       "      <td>4</td>\n",
       "      <td>1</td>\n",
       "      <td>1</td>\n",
       "      <td>0</td>\n",
       "    </tr>\n",
       "  </tbody>\n",
       "</table>\n",
       "</div>"
      ],
      "text/plain": [
       "   id  user_id  tweet_id  like\n",
       "0   0        1         3     1\n",
       "1   1        1        11     1\n",
       "2   2        1        24     0\n",
       "3   3        1        30     1\n",
       "4   4        1         1     0"
      ]
     },
     "execution_count": 8,
     "metadata": {},
     "output_type": "execute_result"
    }
   ],
   "source": [
    "tweet_likes = pd.read_csv('tweet_likes.csv')\n",
    "tweet_likes.head()"
   ]
  },
  {
   "cell_type": "code",
   "execution_count": 9,
   "metadata": {},
   "outputs": [
    {
     "data": {
      "text/html": [
       "<div>\n",
       "<style scoped>\n",
       "    .dataframe tbody tr th:only-of-type {\n",
       "        vertical-align: middle;\n",
       "    }\n",
       "\n",
       "    .dataframe tbody tr th {\n",
       "        vertical-align: top;\n",
       "    }\n",
       "\n",
       "    .dataframe thead th {\n",
       "        text-align: right;\n",
       "    }\n",
       "</style>\n",
       "<table border=\"1\" class=\"dataframe\">\n",
       "  <thead>\n",
       "    <tr style=\"text-align: right;\">\n",
       "      <th></th>\n",
       "      <th>id</th>\n",
       "      <th>user_id</th>\n",
       "      <th>post_id</th>\n",
       "      <th>like</th>\n",
       "    </tr>\n",
       "  </thead>\n",
       "  <tbody>\n",
       "    <tr>\n",
       "      <th>0</th>\n",
       "      <td>0</td>\n",
       "      <td>1</td>\n",
       "      <td>3</td>\n",
       "      <td>1</td>\n",
       "    </tr>\n",
       "    <tr>\n",
       "      <th>1</th>\n",
       "      <td>1</td>\n",
       "      <td>1</td>\n",
       "      <td>18</td>\n",
       "      <td>1</td>\n",
       "    </tr>\n",
       "    <tr>\n",
       "      <th>2</th>\n",
       "      <td>2</td>\n",
       "      <td>1</td>\n",
       "      <td>2</td>\n",
       "      <td>0</td>\n",
       "    </tr>\n",
       "    <tr>\n",
       "      <th>3</th>\n",
       "      <td>3</td>\n",
       "      <td>1</td>\n",
       "      <td>14</td>\n",
       "      <td>0</td>\n",
       "    </tr>\n",
       "    <tr>\n",
       "      <th>4</th>\n",
       "      <td>4</td>\n",
       "      <td>1</td>\n",
       "      <td>8</td>\n",
       "      <td>1</td>\n",
       "    </tr>\n",
       "  </tbody>\n",
       "</table>\n",
       "</div>"
      ],
      "text/plain": [
       "   id  user_id  post_id  like\n",
       "0   0        1        3     1\n",
       "1   1        1       18     1\n",
       "2   2        1        2     0\n",
       "3   3        1       14     0\n",
       "4   4        1        8     1"
      ]
     },
     "execution_count": 9,
     "metadata": {},
     "output_type": "execute_result"
    }
   ],
   "source": [
    "news_likes = pd.read_csv('news_likes.csv')\n",
    "news_likes.head()"
   ]
  },
  {
   "cell_type": "code",
   "execution_count": 10,
   "metadata": {},
   "outputs": [
    {
     "name": "stdout",
     "output_type": "stream",
     "text": [
      "(74, 4)\n",
      "<class 'pandas.core.frame.DataFrame'>\n",
      "RangeIndex: 74 entries, 0 to 73\n",
      "Data columns (total 4 columns):\n",
      " #   Column    Non-Null Count  Dtype\n",
      "---  ------    --------------  -----\n",
      " 0   id        74 non-null     int64\n",
      " 1   user_id   74 non-null     int64\n",
      " 2   tweet_id  74 non-null     int64\n",
      " 3   like      74 non-null     int64\n",
      "dtypes: int64(4)\n",
      "memory usage: 2.4 KB\n"
     ]
    }
   ],
   "source": [
    "print(tweet_likes.shape)\n",
    "tweet_likes.info()"
   ]
  },
  {
   "cell_type": "code",
   "execution_count": 11,
   "metadata": {},
   "outputs": [
    {
     "name": "stdout",
     "output_type": "stream",
     "text": [
      "(80, 4)\n",
      "<class 'pandas.core.frame.DataFrame'>\n",
      "RangeIndex: 80 entries, 0 to 79\n",
      "Data columns (total 4 columns):\n",
      " #   Column   Non-Null Count  Dtype\n",
      "---  ------   --------------  -----\n",
      " 0   id       80 non-null     int64\n",
      " 1   user_id  80 non-null     int64\n",
      " 2   post_id  80 non-null     int64\n",
      " 3   like     80 non-null     int64\n",
      "dtypes: int64(4)\n",
      "memory usage: 2.6 KB\n"
     ]
    }
   ],
   "source": [
    "print(news_likes.shape)\n",
    "news_likes.info()"
   ]
  },
  {
   "cell_type": "code",
   "execution_count": 12,
   "metadata": {},
   "outputs": [
    {
     "data": {
      "text/html": [
       "<div>\n",
       "<style scoped>\n",
       "    .dataframe tbody tr th:only-of-type {\n",
       "        vertical-align: middle;\n",
       "    }\n",
       "\n",
       "    .dataframe tbody tr th {\n",
       "        vertical-align: top;\n",
       "    }\n",
       "\n",
       "    .dataframe thead th {\n",
       "        text-align: right;\n",
       "    }\n",
       "</style>\n",
       "<table border=\"1\" class=\"dataframe\">\n",
       "  <thead>\n",
       "    <tr style=\"text-align: right;\">\n",
       "      <th></th>\n",
       "      <th>id</th>\n",
       "      <th>user_id</th>\n",
       "      <th>tweet_id_x</th>\n",
       "      <th>like</th>\n",
       "      <th>topic</th>\n",
       "      <th>tweet</th>\n",
       "      <th>tweet_id_y</th>\n",
       "    </tr>\n",
       "  </thead>\n",
       "  <tbody>\n",
       "    <tr>\n",
       "      <th>0</th>\n",
       "      <td>0</td>\n",
       "      <td>1</td>\n",
       "      <td>3</td>\n",
       "      <td>1</td>\n",
       "      <td>Politics</td>\n",
       "      <td>there are also events being organised where re...</td>\n",
       "      <td>1371132765513478149</td>\n",
       "    </tr>\n",
       "    <tr>\n",
       "      <th>1</th>\n",
       "      <td>1</td>\n",
       "      <td>1</td>\n",
       "      <td>11</td>\n",
       "      <td>1</td>\n",
       "      <td>India</td>\n",
       "      <td>the uae had in 2016 created the post of minist...</td>\n",
       "      <td>1371132764955635720</td>\n",
       "    </tr>\n",
       "    <tr>\n",
       "      <th>2</th>\n",
       "      <td>2</td>\n",
       "      <td>1</td>\n",
       "      <td>24</td>\n",
       "      <td>0</td>\n",
       "      <td>India</td>\n",
       "      <td>aiadmk releases manifesto for upcoming #tamiln...</td>\n",
       "      <td>1371132734500839427</td>\n",
       "    </tr>\n",
       "    <tr>\n",
       "      <th>3</th>\n",
       "      <td>3</td>\n",
       "      <td>1</td>\n",
       "      <td>30</td>\n",
       "      <td>1</td>\n",
       "      <td>Covid 19</td>\n",
       "      <td>#punjab chief secretary vini mahajan on sunday...</td>\n",
       "      <td>1371132599310057481</td>\n",
       "    </tr>\n",
       "    <tr>\n",
       "      <th>4</th>\n",
       "      <td>4</td>\n",
       "      <td>1</td>\n",
       "      <td>1</td>\n",
       "      <td>0</td>\n",
       "      <td>Finance</td>\n",
       "      <td>rt : #indvseng\\r\\n\\r\\nwhen ishan kishan burst ...</td>\n",
       "      <td>1371132221705261058</td>\n",
       "    </tr>\n",
       "  </tbody>\n",
       "</table>\n",
       "</div>"
      ],
      "text/plain": [
       "   id  user_id  tweet_id_x  like     topic  \\\n",
       "0   0        1           3     1  Politics   \n",
       "1   1        1          11     1     India   \n",
       "2   2        1          24     0     India   \n",
       "3   3        1          30     1  Covid 19   \n",
       "4   4        1           1     0   Finance   \n",
       "\n",
       "                                               tweet           tweet_id_y  \n",
       "0  there are also events being organised where re...  1371132765513478149  \n",
       "1  the uae had in 2016 created the post of minist...  1371132764955635720  \n",
       "2  aiadmk releases manifesto for upcoming #tamiln...  1371132734500839427  \n",
       "3  #punjab chief secretary vini mahajan on sunday...  1371132599310057481  \n",
       "4  rt : #indvseng\\r\\n\\r\\nwhen ishan kishan burst ...  1371132221705261058  "
      ]
     },
     "execution_count": 12,
     "metadata": {},
     "output_type": "execute_result"
    }
   ],
   "source": [
    "df_tweets = tweet_likes.merge(tweets, on='id', how='left')\n",
    "df_tweets.head()"
   ]
  },
  {
   "cell_type": "code",
   "execution_count": 13,
   "metadata": {},
   "outputs": [
    {
     "data": {
      "text/html": [
       "<div>\n",
       "<style scoped>\n",
       "    .dataframe tbody tr th:only-of-type {\n",
       "        vertical-align: middle;\n",
       "    }\n",
       "\n",
       "    .dataframe tbody tr th {\n",
       "        vertical-align: top;\n",
       "    }\n",
       "\n",
       "    .dataframe thead th {\n",
       "        text-align: right;\n",
       "    }\n",
       "</style>\n",
       "<table border=\"1\" class=\"dataframe\">\n",
       "  <thead>\n",
       "    <tr style=\"text-align: right;\">\n",
       "      <th></th>\n",
       "      <th>id</th>\n",
       "      <th>user_id</th>\n",
       "      <th>post_id</th>\n",
       "      <th>like</th>\n",
       "      <th>topic</th>\n",
       "      <th>headline</th>\n",
       "      <th>article</th>\n",
       "    </tr>\n",
       "  </thead>\n",
       "  <tbody>\n",
       "    <tr>\n",
       "      <th>0</th>\n",
       "      <td>0</td>\n",
       "      <td>1</td>\n",
       "      <td>3</td>\n",
       "      <td>1</td>\n",
       "      <td>Technology</td>\n",
       "      <td>Porn star jokes she could post nudes on Insta ...</td>\n",
       "      <td>Porn star Kendra Sunderland's Instagram accoun...</td>\n",
       "    </tr>\n",
       "    <tr>\n",
       "      <th>1</th>\n",
       "      <td>1</td>\n",
       "      <td>1</td>\n",
       "      <td>18</td>\n",
       "      <td>1</td>\n",
       "      <td>Buisness</td>\n",
       "      <td>Satellite pics show remains of SpaceX's rocket...</td>\n",
       "      <td>Satellite images showed the remains of Elon Mu...</td>\n",
       "    </tr>\n",
       "    <tr>\n",
       "      <th>2</th>\n",
       "      <td>2</td>\n",
       "      <td>1</td>\n",
       "      <td>2</td>\n",
       "      <td>0</td>\n",
       "      <td>Politics</td>\n",
       "      <td>Not in favour of recommending such games: Top ...</td>\n",
       "      <td>National Commission for Protection of Child Ri...</td>\n",
       "    </tr>\n",
       "    <tr>\n",
       "      <th>3</th>\n",
       "      <td>3</td>\n",
       "      <td>1</td>\n",
       "      <td>14</td>\n",
       "      <td>0</td>\n",
       "      <td>Covid 19</td>\n",
       "      <td>Researchers develop first AI tool to detect CO...</td>\n",
       "      <td>A team of researchers from the University of V...</td>\n",
       "    </tr>\n",
       "    <tr>\n",
       "      <th>4</th>\n",
       "      <td>4</td>\n",
       "      <td>1</td>\n",
       "      <td>8</td>\n",
       "      <td>1</td>\n",
       "      <td>Buisness</td>\n",
       "      <td>Virgin Galactic's test space flight cut short ...</td>\n",
       "      <td>Richard Branson's space tourism company Virgin...</td>\n",
       "    </tr>\n",
       "  </tbody>\n",
       "</table>\n",
       "</div>"
      ],
      "text/plain": [
       "   id  user_id  post_id  like       topic  \\\n",
       "0   0        1        3     1  Technology   \n",
       "1   1        1       18     1    Buisness   \n",
       "2   2        1        2     0    Politics   \n",
       "3   3        1       14     0    Covid 19   \n",
       "4   4        1        8     1    Buisness   \n",
       "\n",
       "                                            headline  \\\n",
       "0  Porn star jokes she could post nudes on Insta ...   \n",
       "1  Satellite pics show remains of SpaceX's rocket...   \n",
       "2  Not in favour of recommending such games: Top ...   \n",
       "3  Researchers develop first AI tool to detect CO...   \n",
       "4  Virgin Galactic's test space flight cut short ...   \n",
       "\n",
       "                                             article  \n",
       "0  Porn star Kendra Sunderland's Instagram accoun...  \n",
       "1  Satellite images showed the remains of Elon Mu...  \n",
       "2  National Commission for Protection of Child Ri...  \n",
       "3  A team of researchers from the University of V...  \n",
       "4  Richard Branson's space tourism company Virgin...  "
      ]
     },
     "execution_count": 13,
     "metadata": {},
     "output_type": "execute_result"
    }
   ],
   "source": [
    "df_news = news_likes.merge(news, on='id', how='left')\n",
    "df_news.head()"
   ]
  },
  {
   "cell_type": "code",
   "execution_count": 14,
   "metadata": {},
   "outputs": [
    {
     "data": {
      "text/html": [
       "<div>\n",
       "<style scoped>\n",
       "    .dataframe tbody tr th:only-of-type {\n",
       "        vertical-align: middle;\n",
       "    }\n",
       "\n",
       "    .dataframe tbody tr th {\n",
       "        vertical-align: top;\n",
       "    }\n",
       "\n",
       "    .dataframe thead th {\n",
       "        text-align: right;\n",
       "    }\n",
       "</style>\n",
       "<table border=\"1\" class=\"dataframe\">\n",
       "  <thead>\n",
       "    <tr style=\"text-align: right;\">\n",
       "      <th></th>\n",
       "      <th>id</th>\n",
       "      <th>user_id</th>\n",
       "      <th>tweet_id_x</th>\n",
       "      <th>like</th>\n",
       "      <th>topic</th>\n",
       "      <th>tweet</th>\n",
       "      <th>tweet_id_y</th>\n",
       "      <th>email</th>\n",
       "      <th>name</th>\n",
       "      <th>password</th>\n",
       "      <th>username</th>\n",
       "    </tr>\n",
       "  </thead>\n",
       "  <tbody>\n",
       "    <tr>\n",
       "      <th>0</th>\n",
       "      <td>0</td>\n",
       "      <td>1</td>\n",
       "      <td>3</td>\n",
       "      <td>1</td>\n",
       "      <td>Politics</td>\n",
       "      <td>there are also events being organised where re...</td>\n",
       "      <td>1371132765513478149</td>\n",
       "      <td>dhayalaraj2k@gmail.com</td>\n",
       "      <td>Dhayalaraj</td>\n",
       "      <td>Dhayalaraj@1</td>\n",
       "      <td>Dhayalaraj</td>\n",
       "    </tr>\n",
       "    <tr>\n",
       "      <th>1</th>\n",
       "      <td>1</td>\n",
       "      <td>1</td>\n",
       "      <td>11</td>\n",
       "      <td>1</td>\n",
       "      <td>India</td>\n",
       "      <td>the uae had in 2016 created the post of minist...</td>\n",
       "      <td>1371132764955635720</td>\n",
       "      <td>dhayalaraj2k@gmail.com</td>\n",
       "      <td>Dhayalaraj</td>\n",
       "      <td>Dhayalaraj@1</td>\n",
       "      <td>Dhayalaraj</td>\n",
       "    </tr>\n",
       "    <tr>\n",
       "      <th>2</th>\n",
       "      <td>2</td>\n",
       "      <td>1</td>\n",
       "      <td>24</td>\n",
       "      <td>0</td>\n",
       "      <td>India</td>\n",
       "      <td>aiadmk releases manifesto for upcoming #tamiln...</td>\n",
       "      <td>1371132734500839427</td>\n",
       "      <td>dhayalaraj2k@gmail.com</td>\n",
       "      <td>Dhayalaraj</td>\n",
       "      <td>Dhayalaraj@1</td>\n",
       "      <td>Dhayalaraj</td>\n",
       "    </tr>\n",
       "    <tr>\n",
       "      <th>3</th>\n",
       "      <td>3</td>\n",
       "      <td>1</td>\n",
       "      <td>30</td>\n",
       "      <td>1</td>\n",
       "      <td>Covid 19</td>\n",
       "      <td>#punjab chief secretary vini mahajan on sunday...</td>\n",
       "      <td>1371132599310057481</td>\n",
       "      <td>dhayalaraj2k@gmail.com</td>\n",
       "      <td>Dhayalaraj</td>\n",
       "      <td>Dhayalaraj@1</td>\n",
       "      <td>Dhayalaraj</td>\n",
       "    </tr>\n",
       "    <tr>\n",
       "      <th>4</th>\n",
       "      <td>4</td>\n",
       "      <td>1</td>\n",
       "      <td>1</td>\n",
       "      <td>0</td>\n",
       "      <td>Finance</td>\n",
       "      <td>rt : #indvseng\\r\\n\\r\\nwhen ishan kishan burst ...</td>\n",
       "      <td>1371132221705261058</td>\n",
       "      <td>dhayalaraj2k@gmail.com</td>\n",
       "      <td>Dhayalaraj</td>\n",
       "      <td>Dhayalaraj@1</td>\n",
       "      <td>Dhayalaraj</td>\n",
       "    </tr>\n",
       "  </tbody>\n",
       "</table>\n",
       "</div>"
      ],
      "text/plain": [
       "   id  user_id  tweet_id_x  like     topic  \\\n",
       "0   0        1           3     1  Politics   \n",
       "1   1        1          11     1     India   \n",
       "2   2        1          24     0     India   \n",
       "3   3        1          30     1  Covid 19   \n",
       "4   4        1           1     0   Finance   \n",
       "\n",
       "                                               tweet           tweet_id_y  \\\n",
       "0  there are also events being organised where re...  1371132765513478149   \n",
       "1  the uae had in 2016 created the post of minist...  1371132764955635720   \n",
       "2  aiadmk releases manifesto for upcoming #tamiln...  1371132734500839427   \n",
       "3  #punjab chief secretary vini mahajan on sunday...  1371132599310057481   \n",
       "4  rt : #indvseng\\r\\n\\r\\nwhen ishan kishan burst ...  1371132221705261058   \n",
       "\n",
       "                    email        name      password    username  \n",
       "0  dhayalaraj2k@gmail.com  Dhayalaraj  Dhayalaraj@1  Dhayalaraj  \n",
       "1  dhayalaraj2k@gmail.com  Dhayalaraj  Dhayalaraj@1  Dhayalaraj  \n",
       "2  dhayalaraj2k@gmail.com  Dhayalaraj  Dhayalaraj@1  Dhayalaraj  \n",
       "3  dhayalaraj2k@gmail.com  Dhayalaraj  Dhayalaraj@1  Dhayalaraj  \n",
       "4  dhayalaraj2k@gmail.com  Dhayalaraj  Dhayalaraj@1  Dhayalaraj  "
      ]
     },
     "execution_count": 14,
     "metadata": {},
     "output_type": "execute_result"
    }
   ],
   "source": [
    "df_tweets = df_tweets.merge(users, on='user_id', how='left')\n",
    "df_tweets.head()"
   ]
  },
  {
   "cell_type": "code",
   "execution_count": 15,
   "metadata": {},
   "outputs": [
    {
     "data": {
      "text/html": [
       "<div>\n",
       "<style scoped>\n",
       "    .dataframe tbody tr th:only-of-type {\n",
       "        vertical-align: middle;\n",
       "    }\n",
       "\n",
       "    .dataframe tbody tr th {\n",
       "        vertical-align: top;\n",
       "    }\n",
       "\n",
       "    .dataframe thead th {\n",
       "        text-align: right;\n",
       "    }\n",
       "</style>\n",
       "<table border=\"1\" class=\"dataframe\">\n",
       "  <thead>\n",
       "    <tr style=\"text-align: right;\">\n",
       "      <th></th>\n",
       "      <th>id</th>\n",
       "      <th>user_id</th>\n",
       "      <th>post_id</th>\n",
       "      <th>like</th>\n",
       "      <th>topic</th>\n",
       "      <th>headline</th>\n",
       "      <th>article</th>\n",
       "      <th>email</th>\n",
       "      <th>name</th>\n",
       "      <th>password</th>\n",
       "      <th>username</th>\n",
       "    </tr>\n",
       "  </thead>\n",
       "  <tbody>\n",
       "    <tr>\n",
       "      <th>0</th>\n",
       "      <td>0</td>\n",
       "      <td>1</td>\n",
       "      <td>3</td>\n",
       "      <td>1</td>\n",
       "      <td>Technology</td>\n",
       "      <td>Porn star jokes she could post nudes on Insta ...</td>\n",
       "      <td>Porn star Kendra Sunderland's Instagram accoun...</td>\n",
       "      <td>dhayalaraj2k@gmail.com</td>\n",
       "      <td>Dhayalaraj</td>\n",
       "      <td>Dhayalaraj@1</td>\n",
       "      <td>Dhayalaraj</td>\n",
       "    </tr>\n",
       "    <tr>\n",
       "      <th>1</th>\n",
       "      <td>1</td>\n",
       "      <td>1</td>\n",
       "      <td>18</td>\n",
       "      <td>1</td>\n",
       "      <td>Buisness</td>\n",
       "      <td>Satellite pics show remains of SpaceX's rocket...</td>\n",
       "      <td>Satellite images showed the remains of Elon Mu...</td>\n",
       "      <td>dhayalaraj2k@gmail.com</td>\n",
       "      <td>Dhayalaraj</td>\n",
       "      <td>Dhayalaraj@1</td>\n",
       "      <td>Dhayalaraj</td>\n",
       "    </tr>\n",
       "    <tr>\n",
       "      <th>2</th>\n",
       "      <td>2</td>\n",
       "      <td>1</td>\n",
       "      <td>2</td>\n",
       "      <td>0</td>\n",
       "      <td>Politics</td>\n",
       "      <td>Not in favour of recommending such games: Top ...</td>\n",
       "      <td>National Commission for Protection of Child Ri...</td>\n",
       "      <td>dhayalaraj2k@gmail.com</td>\n",
       "      <td>Dhayalaraj</td>\n",
       "      <td>Dhayalaraj@1</td>\n",
       "      <td>Dhayalaraj</td>\n",
       "    </tr>\n",
       "    <tr>\n",
       "      <th>3</th>\n",
       "      <td>3</td>\n",
       "      <td>1</td>\n",
       "      <td>14</td>\n",
       "      <td>0</td>\n",
       "      <td>Covid 19</td>\n",
       "      <td>Researchers develop first AI tool to detect CO...</td>\n",
       "      <td>A team of researchers from the University of V...</td>\n",
       "      <td>dhayalaraj2k@gmail.com</td>\n",
       "      <td>Dhayalaraj</td>\n",
       "      <td>Dhayalaraj@1</td>\n",
       "      <td>Dhayalaraj</td>\n",
       "    </tr>\n",
       "    <tr>\n",
       "      <th>4</th>\n",
       "      <td>4</td>\n",
       "      <td>1</td>\n",
       "      <td>8</td>\n",
       "      <td>1</td>\n",
       "      <td>Buisness</td>\n",
       "      <td>Virgin Galactic's test space flight cut short ...</td>\n",
       "      <td>Richard Branson's space tourism company Virgin...</td>\n",
       "      <td>dhayalaraj2k@gmail.com</td>\n",
       "      <td>Dhayalaraj</td>\n",
       "      <td>Dhayalaraj@1</td>\n",
       "      <td>Dhayalaraj</td>\n",
       "    </tr>\n",
       "  </tbody>\n",
       "</table>\n",
       "</div>"
      ],
      "text/plain": [
       "   id  user_id  post_id  like       topic  \\\n",
       "0   0        1        3     1  Technology   \n",
       "1   1        1       18     1    Buisness   \n",
       "2   2        1        2     0    Politics   \n",
       "3   3        1       14     0    Covid 19   \n",
       "4   4        1        8     1    Buisness   \n",
       "\n",
       "                                            headline  \\\n",
       "0  Porn star jokes she could post nudes on Insta ...   \n",
       "1  Satellite pics show remains of SpaceX's rocket...   \n",
       "2  Not in favour of recommending such games: Top ...   \n",
       "3  Researchers develop first AI tool to detect CO...   \n",
       "4  Virgin Galactic's test space flight cut short ...   \n",
       "\n",
       "                                             article                   email  \\\n",
       "0  Porn star Kendra Sunderland's Instagram accoun...  dhayalaraj2k@gmail.com   \n",
       "1  Satellite images showed the remains of Elon Mu...  dhayalaraj2k@gmail.com   \n",
       "2  National Commission for Protection of Child Ri...  dhayalaraj2k@gmail.com   \n",
       "3  A team of researchers from the University of V...  dhayalaraj2k@gmail.com   \n",
       "4  Richard Branson's space tourism company Virgin...  dhayalaraj2k@gmail.com   \n",
       "\n",
       "         name      password    username  \n",
       "0  Dhayalaraj  Dhayalaraj@1  Dhayalaraj  \n",
       "1  Dhayalaraj  Dhayalaraj@1  Dhayalaraj  \n",
       "2  Dhayalaraj  Dhayalaraj@1  Dhayalaraj  \n",
       "3  Dhayalaraj  Dhayalaraj@1  Dhayalaraj  \n",
       "4  Dhayalaraj  Dhayalaraj@1  Dhayalaraj  "
      ]
     },
     "execution_count": 15,
     "metadata": {},
     "output_type": "execute_result"
    }
   ],
   "source": [
    "df_news = df_news.merge(users, on='user_id', how='left')\n",
    "df_news.head()"
   ]
  },
  {
   "cell_type": "code",
   "execution_count": 16,
   "metadata": {},
   "outputs": [
    {
     "data": {
      "text/plain": [
       "India       29\n",
       "Finance     20\n",
       "Politics    11\n",
       "Covid 19     6\n",
       "Election     5\n",
       "Vaccine      3\n",
       "Name: topic, dtype: int64"
      ]
     },
     "execution_count": 16,
     "metadata": {},
     "output_type": "execute_result"
    }
   ],
   "source": [
    "df_tweets.topic.value_counts()"
   ]
  },
  {
   "cell_type": "code",
   "execution_count": 17,
   "metadata": {},
   "outputs": [
    {
     "data": {
      "text/plain": [
       "Sports           21\n",
       "Buisness         17\n",
       "Technology       17\n",
       "Politics         15\n",
       "Covid 19          7\n",
       "Entertainment     3\n",
       "Name: topic, dtype: int64"
      ]
     },
     "execution_count": 17,
     "metadata": {},
     "output_type": "execute_result"
    }
   ],
   "source": [
    "df_news.topic.value_counts()"
   ]
  },
  {
   "cell_type": "code",
   "execution_count": 18,
   "metadata": {},
   "outputs": [],
   "source": [
    "from sklearn.feature_extraction.text import TfidfVectorizer\n",
    "from sklearn.metrics.pairwise import linear_kernel"
   ]
  },
  {
   "cell_type": "code",
   "execution_count": 19,
   "metadata": {},
   "outputs": [
    {
     "data": {
      "text/plain": [
       "(203, 8)"
      ]
     },
     "execution_count": 19,
     "metadata": {},
     "output_type": "execute_result"
    }
   ],
   "source": [
    "tf_tweets = TfidfVectorizer(analyzer='word', sublinear_tf=True, ngram_range=(1, 3), min_df=0, stop_words='english')\n",
    "tfidf_matrix_tweets = tf_tweets.fit_transform(tweets['topic'])\n",
    "tfidf_matrix_tweets.shape"
   ]
  },
  {
   "cell_type": "code",
   "execution_count": 20,
   "metadata": {},
   "outputs": [
    {
     "data": {
      "text/plain": [
       "(1563, 8)"
      ]
     },
     "execution_count": 20,
     "metadata": {},
     "output_type": "execute_result"
    }
   ],
   "source": [
    "tf_news = TfidfVectorizer(analyzer='word', sublinear_tf=True, ngram_range=(1, 3), min_df=0, stop_words='english')\n",
    "tfidf_matrix_news = tf_news.fit_transform(news['topic'])\n",
    "tfidf_matrix_news.shape"
   ]
  },
  {
   "cell_type": "code",
   "execution_count": 21,
   "metadata": {},
   "outputs": [
    {
     "data": {
      "text/plain": [
       "['vaccine',\n",
       " 'politics',\n",
       " 'india',\n",
       " 'finance',\n",
       " 'election',\n",
       " 'covid 19',\n",
       " 'covid',\n",
       " '19']"
      ]
     },
     "execution_count": 21,
     "metadata": {},
     "output_type": "execute_result"
    }
   ],
   "source": [
    "tf_tweets.get_feature_names()[:-30:-1]"
   ]
  },
  {
   "cell_type": "code",
   "execution_count": 22,
   "metadata": {},
   "outputs": [
    {
     "data": {
      "text/plain": [
       "['technology',\n",
       " 'sports',\n",
       " 'politics',\n",
       " 'entertainment',\n",
       " 'covid 19',\n",
       " 'covid',\n",
       " 'buisness',\n",
       " '19']"
      ]
     },
     "execution_count": 22,
     "metadata": {},
     "output_type": "execute_result"
    }
   ],
   "source": [
    "tf_news.get_feature_names()[:-30:-1]"
   ]
  },
  {
   "cell_type": "code",
   "execution_count": 23,
   "metadata": {},
   "outputs": [
    {
     "data": {
      "text/plain": [
       "array([1., 0., 0., 0., 0., 0., 0., 1., 0., 0., 1., 0., 0., 0., 0., 0., 0.,\n",
       "       0., 1., 1., 0., 0., 0., 1., 0., 0., 0., 0., 0., 0., 0., 1., 0., 0.,\n",
       "       0., 0., 0., 0., 0., 0., 0., 0., 0., 0., 1., 0., 0., 0., 0., 0., 0.,\n",
       "       0., 0., 0., 1., 0., 0., 1., 0., 0., 0., 0., 0., 0., 0., 0., 0., 1.,\n",
       "       0., 0., 0., 0., 0., 0., 0., 1., 0., 0., 0., 0., 0., 0., 0., 0., 0.,\n",
       "       0., 1., 0., 1., 0., 0., 0., 0., 0., 0., 0., 0., 0., 0., 0., 1., 1.,\n",
       "       0., 1., 1., 0., 1., 0., 0., 0., 0., 1., 0., 0., 0., 0., 0., 0., 0.,\n",
       "       0., 0., 0., 0., 0., 0., 1., 1., 0., 1., 0., 0., 0., 1., 0., 0., 0.,\n",
       "       0., 0., 0., 0., 0., 0., 0., 0., 0., 0., 0., 1., 0., 0., 0., 0., 1.,\n",
       "       1., 0., 0., 1., 0., 0., 0., 0., 0., 1., 0., 0., 0., 0., 0., 0., 1.,\n",
       "       0., 0., 0., 0., 0., 0., 1., 1., 0., 0., 0., 0., 0., 0., 0., 0., 0.,\n",
       "       1., 0., 1., 0., 0., 0., 0., 0., 0., 1., 0., 0., 1., 1., 0., 0.])"
      ]
     },
     "execution_count": 23,
     "metadata": {},
     "output_type": "execute_result"
    }
   ],
   "source": [
    "cosine_similarities_tweets = linear_kernel(tfidf_matrix_tweets, tfidf_matrix_tweets)\n",
    "cosine_similarities_tweets[0]"
   ]
  },
  {
   "cell_type": "code",
   "execution_count": 24,
   "metadata": {},
   "outputs": [
    {
     "data": {
      "text/plain": [
       "array([1., 0., 0., ..., 1., 0., 0.])"
      ]
     },
     "execution_count": 24,
     "metadata": {},
     "output_type": "execute_result"
    }
   ],
   "source": [
    "cosine_similarities_news = linear_kernel(tfidf_matrix_news, tfidf_matrix_news)\n",
    "cosine_similarities_news[0]"
   ]
  },
  {
   "cell_type": "code",
   "execution_count": 25,
   "metadata": {},
   "outputs": [
    {
     "data": {
      "text/plain": [
       "id\n",
       "0    0\n",
       "1    1\n",
       "2    2\n",
       "3    3\n",
       "4    4\n",
       "dtype: int64"
      ]
     },
     "execution_count": 25,
     "metadata": {},
     "output_type": "execute_result"
    }
   ],
   "source": [
    "tweetid = tweets['id']\n",
    "tweet_indices = pd.Series(tweets.index, index=tweets['id'])\n",
    "tweet_indices.head()"
   ]
  },
  {
   "cell_type": "code",
   "execution_count": 26,
   "metadata": {},
   "outputs": [
    {
     "data": {
      "text/plain": [
       "id\n",
       "0    0\n",
       "1    1\n",
       "2    2\n",
       "3    3\n",
       "4    4\n",
       "dtype: int64"
      ]
     },
     "execution_count": 26,
     "metadata": {},
     "output_type": "execute_result"
    }
   ],
   "source": [
    "newsid = news['id']\n",
    "news_indices = pd.Series(news.index, index=news['id'])\n",
    "news_indices.head()"
   ]
  },
  {
   "cell_type": "code",
   "execution_count": 27,
   "metadata": {},
   "outputs": [],
   "source": [
    "def tweet_item(id):\n",
    "    return tweets.loc[tweets['id'] == id]['topic'].tolist()[0]\n",
    "def news_item(id):\n",
    "    return news.loc[news['id'] == id]['topic'].tolist()[0]"
   ]
  },
  {
   "cell_type": "code",
   "execution_count": 28,
   "metadata": {},
   "outputs": [],
   "source": [
    "def get_tweet_recommendations(postid, num, indices):\n",
    "    indx = indices[postid]\n",
    "    sim_scores = list(enumerate(cosine_similarities_tweets[indx]))\n",
    "    sim_scores = sorted(sim_scores, key=lambda x: x[1], reverse=True)\n",
    "    sim_scores = sim_scores[1:num+1]\n",
    "    print(sim_scores)\n",
    "    indices = [i[0] for i in sim_scores]\n",
    "    print(\"Recommending \" + str(num) + \" posts similar to \\\"\" + tweet_item(postid) + \"\\\" ...\")\n",
    "    return tweets.iloc[indices]"
   ]
  },
  {
   "cell_type": "code",
   "execution_count": 29,
   "metadata": {},
   "outputs": [],
   "source": [
    "def get_news_recommendations(postid, num, indices):\n",
    "    indx = indices[postid]\n",
    "    sim_scores = list(enumerate(cosine_similarities_news[indx]))\n",
    "    sim_scores = sorted(sim_scores, key=lambda x: x[1], reverse=True)\n",
    "    sim_scores = sim_scores[1:num+1]\n",
    "    print(sim_scores)\n",
    "    indices = [i[0] for i in sim_scores]\n",
    "    print(\"Recommending \" + str(num) + \" posts similar to \\\"\" + news_item(postid) + \"\\\" ...\")\n",
    "    return news.iloc[indices]"
   ]
  },
  {
   "cell_type": "code",
   "execution_count": 30,
   "metadata": {},
   "outputs": [
    {
     "name": "stdout",
     "output_type": "stream",
     "text": [
      "[(2, 1.0)]\n",
      "Recommending 1 posts similar to \"India\" ...\n"
     ]
    },
    {
     "data": {
      "text/html": [
       "<div>\n",
       "<style scoped>\n",
       "    .dataframe tbody tr th:only-of-type {\n",
       "        vertical-align: middle;\n",
       "    }\n",
       "\n",
       "    .dataframe tbody tr th {\n",
       "        vertical-align: top;\n",
       "    }\n",
       "\n",
       "    .dataframe thead th {\n",
       "        text-align: right;\n",
       "    }\n",
       "</style>\n",
       "<table border=\"1\" class=\"dataframe\">\n",
       "  <thead>\n",
       "    <tr style=\"text-align: right;\">\n",
       "      <th></th>\n",
       "      <th>id</th>\n",
       "      <th>topic</th>\n",
       "      <th>tweet</th>\n",
       "      <th>tweet_id</th>\n",
       "    </tr>\n",
       "  </thead>\n",
       "  <tbody>\n",
       "    <tr>\n",
       "      <th>2</th>\n",
       "      <td>2</td>\n",
       "      <td>India</td>\n",
       "      <td>aiadmk releases manifesto for upcoming #tamiln...</td>\n",
       "      <td>1371132734500839427</td>\n",
       "    </tr>\n",
       "  </tbody>\n",
       "</table>\n",
       "</div>"
      ],
      "text/plain": [
       "   id  topic                                              tweet  \\\n",
       "2   2  India  aiadmk releases manifesto for upcoming #tamiln...   \n",
       "\n",
       "              tweet_id  \n",
       "2  1371132734500839427  "
      ]
     },
     "execution_count": 30,
     "metadata": {},
     "output_type": "execute_result"
    }
   ],
   "source": [
    "get_tweet_recommendations(2, 1, tweet_indices)"
   ]
  },
  {
   "cell_type": "code",
   "execution_count": 31,
   "metadata": {},
   "outputs": [
    {
     "name": "stdout",
     "output_type": "stream",
     "text": [
      "[(14, 1.0)]\n",
      "Recommending 1 posts similar to \"Politics\" ...\n"
     ]
    },
    {
     "data": {
      "text/html": [
       "<div>\n",
       "<style scoped>\n",
       "    .dataframe tbody tr th:only-of-type {\n",
       "        vertical-align: middle;\n",
       "    }\n",
       "\n",
       "    .dataframe tbody tr th {\n",
       "        vertical-align: top;\n",
       "    }\n",
       "\n",
       "    .dataframe thead th {\n",
       "        text-align: right;\n",
       "    }\n",
       "</style>\n",
       "<table border=\"1\" class=\"dataframe\">\n",
       "  <thead>\n",
       "    <tr style=\"text-align: right;\">\n",
       "      <th></th>\n",
       "      <th>id</th>\n",
       "      <th>topic</th>\n",
       "      <th>headline</th>\n",
       "      <th>article</th>\n",
       "    </tr>\n",
       "  </thead>\n",
       "  <tbody>\n",
       "    <tr>\n",
       "      <th>14</th>\n",
       "      <td>14</td>\n",
       "      <td>Politics</td>\n",
       "      <td>K'taka govt to provide protection to iPhone pl...</td>\n",
       "      <td>Karnataka Minister for Large and Medium Scale ...</td>\n",
       "    </tr>\n",
       "  </tbody>\n",
       "</table>\n",
       "</div>"
      ],
      "text/plain": [
       "    id     topic                                           headline  \\\n",
       "14  14  Politics  K'taka govt to provide protection to iPhone pl...   \n",
       "\n",
       "                                              article  \n",
       "14  Karnataka Minister for Large and Medium Scale ...  "
      ]
     },
     "execution_count": 31,
     "metadata": {},
     "output_type": "execute_result"
    }
   ],
   "source": [
    "get_news_recommendations(2, 1, news_indices)"
   ]
  },
  {
   "cell_type": "code",
   "execution_count": 32,
   "metadata": {},
   "outputs": [
    {
     "name": "stdout",
     "output_type": "stream",
     "text": [
      "[(14, 1.0), (72, 1.0), (78, 1.0)]\n",
      "Recommending 3 posts similar to \"Vaccine\" ...\n"
     ]
    },
    {
     "data": {
      "text/html": [
       "<div>\n",
       "<style scoped>\n",
       "    .dataframe tbody tr th:only-of-type {\n",
       "        vertical-align: middle;\n",
       "    }\n",
       "\n",
       "    .dataframe tbody tr th {\n",
       "        vertical-align: top;\n",
       "    }\n",
       "\n",
       "    .dataframe thead th {\n",
       "        text-align: right;\n",
       "    }\n",
       "</style>\n",
       "<table border=\"1\" class=\"dataframe\">\n",
       "  <thead>\n",
       "    <tr style=\"text-align: right;\">\n",
       "      <th></th>\n",
       "      <th>id</th>\n",
       "      <th>topic</th>\n",
       "      <th>tweet</th>\n",
       "      <th>tweet_id</th>\n",
       "    </tr>\n",
       "  </thead>\n",
       "  <tbody>\n",
       "    <tr>\n",
       "      <th>14</th>\n",
       "      <td>14</td>\n",
       "      <td>Vaccine</td>\n",
       "      <td>rt : check out the official photos of #mehreen...</td>\n",
       "      <td>1371129909041451012</td>\n",
       "    </tr>\n",
       "    <tr>\n",
       "      <th>72</th>\n",
       "      <td>72</td>\n",
       "      <td>Vaccine</td>\n",
       "      <td>benjamin netanyahu has remained in power as is...</td>\n",
       "      <td>1371121441219866626</td>\n",
       "    </tr>\n",
       "    <tr>\n",
       "      <th>78</th>\n",
       "      <td>78</td>\n",
       "      <td>Vaccine</td>\n",
       "      <td>rt mumbai: after the change of government the ...</td>\n",
       "      <td>1371120411568603142</td>\n",
       "    </tr>\n",
       "  </tbody>\n",
       "</table>\n",
       "</div>"
      ],
      "text/plain": [
       "    id    topic                                              tweet  \\\n",
       "14  14  Vaccine  rt : check out the official photos of #mehreen...   \n",
       "72  72  Vaccine  benjamin netanyahu has remained in power as is...   \n",
       "78  78  Vaccine  rt mumbai: after the change of government the ...   \n",
       "\n",
       "               tweet_id  \n",
       "14  1371129909041451012  \n",
       "72  1371121441219866626  \n",
       "78  1371120411568603142  "
      ]
     },
     "execution_count": 32,
     "metadata": {},
     "output_type": "execute_result"
    }
   ],
   "source": [
    "get_tweet_recommendations(5, 3, tweet_indices)"
   ]
  },
  {
   "cell_type": "code",
   "execution_count": 33,
   "metadata": {},
   "outputs": [
    {
     "name": "stdout",
     "output_type": "stream",
     "text": [
      "[(5, 1.0), (6, 1.0), (7, 1.0)]\n",
      "Recommending 3 posts similar to \"Technology\" ...\n"
     ]
    },
    {
     "data": {
      "text/html": [
       "<div>\n",
       "<style scoped>\n",
       "    .dataframe tbody tr th:only-of-type {\n",
       "        vertical-align: middle;\n",
       "    }\n",
       "\n",
       "    .dataframe tbody tr th {\n",
       "        vertical-align: top;\n",
       "    }\n",
       "\n",
       "    .dataframe thead th {\n",
       "        text-align: right;\n",
       "    }\n",
       "</style>\n",
       "<table border=\"1\" class=\"dataframe\">\n",
       "  <thead>\n",
       "    <tr style=\"text-align: right;\">\n",
       "      <th></th>\n",
       "      <th>id</th>\n",
       "      <th>topic</th>\n",
       "      <th>headline</th>\n",
       "      <th>article</th>\n",
       "    </tr>\n",
       "  </thead>\n",
       "  <tbody>\n",
       "    <tr>\n",
       "      <th>5</th>\n",
       "      <td>5</td>\n",
       "      <td>Technology</td>\n",
       "      <td>Apple shuts Music Memos app, asks users to exp...</td>\n",
       "      <td>Apple has announced that it's discontinuing it...</td>\n",
       "    </tr>\n",
       "    <tr>\n",
       "      <th>6</th>\n",
       "      <td>6</td>\n",
       "      <td>Technology</td>\n",
       "      <td>28% Indians hide real identities on social med...</td>\n",
       "      <td>Global cybersecurity firm Kaspersky in its rep...</td>\n",
       "    </tr>\n",
       "    <tr>\n",
       "      <th>7</th>\n",
       "      <td>7</td>\n",
       "      <td>Technology</td>\n",
       "      <td>Malware campaign adding extensions in Chrome, ...</td>\n",
       "      <td>Google Chrome, Firefox and other browsers are ...</td>\n",
       "    </tr>\n",
       "  </tbody>\n",
       "</table>\n",
       "</div>"
      ],
      "text/plain": [
       "   id       topic                                           headline  \\\n",
       "5   5  Technology  Apple shuts Music Memos app, asks users to exp...   \n",
       "6   6  Technology  28% Indians hide real identities on social med...   \n",
       "7   7  Technology  Malware campaign adding extensions in Chrome, ...   \n",
       "\n",
       "                                             article  \n",
       "5  Apple has announced that it's discontinuing it...  \n",
       "6  Global cybersecurity firm Kaspersky in its rep...  \n",
       "7  Google Chrome, Firefox and other browsers are ...  "
      ]
     },
     "execution_count": 33,
     "metadata": {},
     "output_type": "execute_result"
    }
   ],
   "source": [
    "get_news_recommendations(5, 3, news_indices)"
   ]
  },
  {
   "cell_type": "code",
   "execution_count": 34,
   "metadata": {},
   "outputs": [
    {
     "data": {
      "text/html": [
       "<div>\n",
       "<style scoped>\n",
       "    .dataframe tbody tr th:only-of-type {\n",
       "        vertical-align: middle;\n",
       "    }\n",
       "\n",
       "    .dataframe tbody tr th {\n",
       "        vertical-align: top;\n",
       "    }\n",
       "\n",
       "    .dataframe thead th {\n",
       "        text-align: right;\n",
       "    }\n",
       "</style>\n",
       "<table border=\"1\" class=\"dataframe\">\n",
       "  <thead>\n",
       "    <tr style=\"text-align: right;\">\n",
       "      <th></th>\n",
       "      <th>id</th>\n",
       "      <th>topic</th>\n",
       "      <th>tweet</th>\n",
       "      <th>tweet_id</th>\n",
       "    </tr>\n",
       "  </thead>\n",
       "  <tbody>\n",
       "    <tr>\n",
       "      <th>0</th>\n",
       "      <td>0</td>\n",
       "      <td>Politics</td>\n",
       "      <td>there are also events being organised where re...</td>\n",
       "      <td>1371132765513478149</td>\n",
       "    </tr>\n",
       "    <tr>\n",
       "      <th>1</th>\n",
       "      <td>1</td>\n",
       "      <td>India</td>\n",
       "      <td>the uae had in 2016 created the post of minist...</td>\n",
       "      <td>1371132764955635720</td>\n",
       "    </tr>\n",
       "    <tr>\n",
       "      <th>2</th>\n",
       "      <td>2</td>\n",
       "      <td>India</td>\n",
       "      <td>aiadmk releases manifesto for upcoming #tamiln...</td>\n",
       "      <td>1371132734500839427</td>\n",
       "    </tr>\n",
       "    <tr>\n",
       "      <th>3</th>\n",
       "      <td>3</td>\n",
       "      <td>Covid 19</td>\n",
       "      <td>#punjab chief secretary vini mahajan on sunday...</td>\n",
       "      <td>1371132599310057481</td>\n",
       "    </tr>\n",
       "    <tr>\n",
       "      <th>4</th>\n",
       "      <td>4</td>\n",
       "      <td>Finance</td>\n",
       "      <td>rt : #indvseng\\r\\n\\r\\nwhen ishan kishan burst ...</td>\n",
       "      <td>1371132221705261058</td>\n",
       "    </tr>\n",
       "  </tbody>\n",
       "</table>\n",
       "</div>"
      ],
      "text/plain": [
       "   id     topic                                              tweet  \\\n",
       "0   0  Politics  there are also events being organised where re...   \n",
       "1   1     India  the uae had in 2016 created the post of minist...   \n",
       "2   2     India  aiadmk releases manifesto for upcoming #tamiln...   \n",
       "3   3  Covid 19  #punjab chief secretary vini mahajan on sunday...   \n",
       "4   4   Finance  rt : #indvseng\\r\\n\\r\\nwhen ishan kishan burst ...   \n",
       "\n",
       "              tweet_id  \n",
       "0  1371132765513478149  \n",
       "1  1371132764955635720  \n",
       "2  1371132734500839427  \n",
       "3  1371132599310057481  \n",
       "4  1371132221705261058  "
      ]
     },
     "execution_count": 34,
     "metadata": {},
     "output_type": "execute_result"
    }
   ],
   "source": [
    "tweets.head()"
   ]
  },
  {
   "cell_type": "code",
   "execution_count": 35,
   "metadata": {},
   "outputs": [
    {
     "data": {
      "text/html": [
       "<div>\n",
       "<style scoped>\n",
       "    .dataframe tbody tr th:only-of-type {\n",
       "        vertical-align: middle;\n",
       "    }\n",
       "\n",
       "    .dataframe tbody tr th {\n",
       "        vertical-align: top;\n",
       "    }\n",
       "\n",
       "    .dataframe thead th {\n",
       "        text-align: right;\n",
       "    }\n",
       "</style>\n",
       "<table border=\"1\" class=\"dataframe\">\n",
       "  <thead>\n",
       "    <tr style=\"text-align: right;\">\n",
       "      <th></th>\n",
       "      <th>id</th>\n",
       "      <th>topic</th>\n",
       "      <th>tweet</th>\n",
       "      <th>tweet_id</th>\n",
       "      <th>mix</th>\n",
       "    </tr>\n",
       "  </thead>\n",
       "  <tbody>\n",
       "    <tr>\n",
       "      <th>0</th>\n",
       "      <td>0</td>\n",
       "      <td>Politics</td>\n",
       "      <td>there are also events being organised where re...</td>\n",
       "      <td>1371132765513478149</td>\n",
       "      <td>there are also events being organised where re...</td>\n",
       "    </tr>\n",
       "    <tr>\n",
       "      <th>1</th>\n",
       "      <td>1</td>\n",
       "      <td>India</td>\n",
       "      <td>the uae had in 2016 created the post of minist...</td>\n",
       "      <td>1371132764955635720</td>\n",
       "      <td>the uae had in 2016 created the post of minist...</td>\n",
       "    </tr>\n",
       "    <tr>\n",
       "      <th>2</th>\n",
       "      <td>2</td>\n",
       "      <td>India</td>\n",
       "      <td>aiadmk releases manifesto for upcoming #tamiln...</td>\n",
       "      <td>1371132734500839427</td>\n",
       "      <td>aiadmk releases manifesto for upcoming #tamiln...</td>\n",
       "    </tr>\n",
       "    <tr>\n",
       "      <th>3</th>\n",
       "      <td>3</td>\n",
       "      <td>Covid 19</td>\n",
       "      <td>#punjab chief secretary vini mahajan on sunday...</td>\n",
       "      <td>1371132599310057481</td>\n",
       "      <td>#punjab chief secretary vini mahajan on sunday...</td>\n",
       "    </tr>\n",
       "    <tr>\n",
       "      <th>4</th>\n",
       "      <td>4</td>\n",
       "      <td>Finance</td>\n",
       "      <td>rt : #indvseng\\r\\n\\r\\nwhen ishan kishan burst ...</td>\n",
       "      <td>1371132221705261058</td>\n",
       "      <td>rt : #indvseng\\r\\n\\r\\nwhen ishan kishan burst ...</td>\n",
       "    </tr>\n",
       "  </tbody>\n",
       "</table>\n",
       "</div>"
      ],
      "text/plain": [
       "   id     topic                                              tweet  \\\n",
       "0   0  Politics  there are also events being organised where re...   \n",
       "1   1     India  the uae had in 2016 created the post of minist...   \n",
       "2   2     India  aiadmk releases manifesto for upcoming #tamiln...   \n",
       "3   3  Covid 19  #punjab chief secretary vini mahajan on sunday...   \n",
       "4   4   Finance  rt : #indvseng\\r\\n\\r\\nwhen ishan kishan burst ...   \n",
       "\n",
       "              tweet_id                                                mix  \n",
       "0  1371132765513478149  there are also events being organised where re...  \n",
       "1  1371132764955635720  the uae had in 2016 created the post of minist...  \n",
       "2  1371132734500839427  aiadmk releases manifesto for upcoming #tamiln...  \n",
       "3  1371132599310057481  #punjab chief secretary vini mahajan on sunday...  \n",
       "4  1371132221705261058  rt : #indvseng\\r\\n\\r\\nwhen ishan kishan burst ...  "
      ]
     },
     "execution_count": 35,
     "metadata": {},
     "output_type": "execute_result"
    }
   ],
   "source": [
    "tweets['mix'] = tweets['tweet'] + \" \" + tweets['topic']\n",
    "tweets.head()"
   ]
  },
  {
   "cell_type": "code",
   "execution_count": 36,
   "metadata": {},
   "outputs": [
    {
     "data": {
      "text/html": [
       "<div>\n",
       "<style scoped>\n",
       "    .dataframe tbody tr th:only-of-type {\n",
       "        vertical-align: middle;\n",
       "    }\n",
       "\n",
       "    .dataframe tbody tr th {\n",
       "        vertical-align: top;\n",
       "    }\n",
       "\n",
       "    .dataframe thead th {\n",
       "        text-align: right;\n",
       "    }\n",
       "</style>\n",
       "<table border=\"1\" class=\"dataframe\">\n",
       "  <thead>\n",
       "    <tr style=\"text-align: right;\">\n",
       "      <th></th>\n",
       "      <th>id</th>\n",
       "      <th>topic</th>\n",
       "      <th>headline</th>\n",
       "      <th>article</th>\n",
       "      <th>mix</th>\n",
       "    </tr>\n",
       "  </thead>\n",
       "  <tbody>\n",
       "    <tr>\n",
       "      <th>0</th>\n",
       "      <td>0</td>\n",
       "      <td>Technology</td>\n",
       "      <td>Porn star jokes she could post nudes on Insta ...</td>\n",
       "      <td>Porn star Kendra Sunderland's Instagram accoun...</td>\n",
       "      <td>Porn star Kendra Sunderland's Instagram accoun...</td>\n",
       "    </tr>\n",
       "    <tr>\n",
       "      <th>1</th>\n",
       "      <td>1</td>\n",
       "      <td>Buisness</td>\n",
       "      <td>Satellite pics show remains of SpaceX's rocket...</td>\n",
       "      <td>Satellite images showed the remains of Elon Mu...</td>\n",
       "      <td>Satellite images showed the remains of Elon Mu...</td>\n",
       "    </tr>\n",
       "    <tr>\n",
       "      <th>2</th>\n",
       "      <td>2</td>\n",
       "      <td>Politics</td>\n",
       "      <td>Not in favour of recommending such games: Top ...</td>\n",
       "      <td>National Commission for Protection of Child Ri...</td>\n",
       "      <td>National Commission for Protection of Child Ri...</td>\n",
       "    </tr>\n",
       "    <tr>\n",
       "      <th>3</th>\n",
       "      <td>3</td>\n",
       "      <td>Covid 19</td>\n",
       "      <td>Researchers develop first AI tool to detect CO...</td>\n",
       "      <td>A team of researchers from the University of V...</td>\n",
       "      <td>A team of researchers from the University of V...</td>\n",
       "    </tr>\n",
       "    <tr>\n",
       "      <th>4</th>\n",
       "      <td>4</td>\n",
       "      <td>Buisness</td>\n",
       "      <td>Virgin Galactic's test space flight cut short ...</td>\n",
       "      <td>Richard Branson's space tourism company Virgin...</td>\n",
       "      <td>Richard Branson's space tourism company Virgin...</td>\n",
       "    </tr>\n",
       "  </tbody>\n",
       "</table>\n",
       "</div>"
      ],
      "text/plain": [
       "   id       topic                                           headline  \\\n",
       "0   0  Technology  Porn star jokes she could post nudes on Insta ...   \n",
       "1   1    Buisness  Satellite pics show remains of SpaceX's rocket...   \n",
       "2   2    Politics  Not in favour of recommending such games: Top ...   \n",
       "3   3    Covid 19  Researchers develop first AI tool to detect CO...   \n",
       "4   4    Buisness  Virgin Galactic's test space flight cut short ...   \n",
       "\n",
       "                                             article  \\\n",
       "0  Porn star Kendra Sunderland's Instagram accoun...   \n",
       "1  Satellite images showed the remains of Elon Mu...   \n",
       "2  National Commission for Protection of Child Ri...   \n",
       "3  A team of researchers from the University of V...   \n",
       "4  Richard Branson's space tourism company Virgin...   \n",
       "\n",
       "                                                 mix  \n",
       "0  Porn star Kendra Sunderland's Instagram accoun...  \n",
       "1  Satellite images showed the remains of Elon Mu...  \n",
       "2  National Commission for Protection of Child Ri...  \n",
       "3  A team of researchers from the University of V...  \n",
       "4  Richard Branson's space tourism company Virgin...  "
      ]
     },
     "execution_count": 36,
     "metadata": {},
     "output_type": "execute_result"
    }
   ],
   "source": [
    "news['mix'] = news['article'] + \" \" + news['topic']\n",
    "news.head()"
   ]
  },
  {
   "cell_type": "code",
   "execution_count": 37,
   "metadata": {},
   "outputs": [
    {
     "data": {
      "text/plain": [
       "(203, 17059)"
      ]
     },
     "execution_count": 37,
     "metadata": {},
     "output_type": "execute_result"
    }
   ],
   "source": [
    "tf_tweets = TfidfVectorizer(analyzer='word', sublinear_tf=True, ngram_range=(1, 8), min_df=0, stop_words='english')\n",
    "tfidf_matrix_tweets = tf_tweets.fit_transform(tweets['mix'])\n",
    "tfidf_matrix_tweets.shape"
   ]
  },
  {
   "cell_type": "code",
   "execution_count": 38,
   "metadata": {},
   "outputs": [
    {
     "data": {
      "text/plain": [
       "(1563, 157834)"
      ]
     },
     "execution_count": 38,
     "metadata": {},
     "output_type": "execute_result"
    }
   ],
   "source": [
    "tf_news = TfidfVectorizer(analyzer='word', sublinear_tf=True, ngram_range=(1, 8), min_df=0, stop_words='english')\n",
    "tfidf_matrix_news = tf_tweets.fit_transform(news['mix'])\n",
    "tfidf_matrix_news.shape"
   ]
  },
  {
   "cell_type": "code",
   "execution_count": 39,
   "metadata": {},
   "outputs": [
    {
     "data": {
      "text/plain": [
       "array([1.        , 0.        , 0.        , 0.        , 0.        ,\n",
       "       0.        , 0.        , 0.00269281, 0.        , 0.        ,\n",
       "       0.00210056, 0.        , 0.        , 0.        , 0.        ,\n",
       "       0.        , 0.        , 0.0088394 , 0.00283264, 0.0026398 ,\n",
       "       0.        , 0.        , 0.        , 0.00314109, 0.        ,\n",
       "       0.        , 0.        , 0.        , 0.        , 0.        ,\n",
       "       0.        , 0.00298979, 0.        , 0.        , 0.        ,\n",
       "       0.        , 0.        , 0.        , 0.00647053, 0.00239632,\n",
       "       0.        , 0.        , 0.        , 0.        , 0.00224787,\n",
       "       0.00269125, 0.        , 0.        , 0.        , 0.        ,\n",
       "       0.        , 0.        , 0.        , 0.        , 0.00410172,\n",
       "       0.        , 0.        , 0.00248369, 0.        , 0.        ,\n",
       "       0.        , 0.        , 0.        , 0.        , 0.        ,\n",
       "       0.        , 0.        , 0.00257911, 0.        , 0.        ,\n",
       "       0.        , 0.        , 0.        , 0.        , 0.        ,\n",
       "       0.00251633, 0.        , 0.        , 0.        , 0.        ,\n",
       "       0.        , 0.01235173, 0.        , 0.        , 0.        ,\n",
       "       0.        , 0.0022319 , 0.        , 0.00376525, 0.        ,\n",
       "       0.        , 0.        , 0.        , 0.        , 0.        ,\n",
       "       0.        , 0.        , 0.        , 0.        , 0.        ,\n",
       "       0.00381867, 0.00291718, 0.        , 0.00361017, 0.00317194,\n",
       "       0.        , 0.00238317, 0.        , 0.        , 0.        ,\n",
       "       0.        , 0.003351  , 0.        , 0.        , 0.        ,\n",
       "       0.        , 0.01024001, 0.        , 0.        , 0.        ,\n",
       "       0.        , 0.        , 0.0175046 , 0.        , 0.        ,\n",
       "       0.00332626, 0.00332878, 0.        , 0.0033346 , 0.        ,\n",
       "       0.        , 0.        , 0.00272236, 0.        , 0.        ,\n",
       "       0.        , 0.        , 0.        , 0.        , 0.        ,\n",
       "       0.        , 0.        , 0.        , 0.        , 0.        ,\n",
       "       0.        , 0.        , 0.00265366, 0.        , 0.        ,\n",
       "       0.        , 0.        , 0.00283153, 0.00312717, 0.        ,\n",
       "       0.        , 0.01892684, 0.        , 0.        , 0.        ,\n",
       "       0.        , 0.        , 0.00355245, 0.        , 0.        ,\n",
       "       0.        , 0.        , 0.        , 0.        , 0.00251669,\n",
       "       0.        , 0.        , 0.        , 0.        , 0.        ,\n",
       "       0.        , 0.00261707, 0.00299084, 0.        , 0.        ,\n",
       "       0.        , 0.        , 0.        , 0.        , 0.        ,\n",
       "       0.01411141, 0.        , 0.00243668, 0.        , 0.00250588,\n",
       "       0.        , 0.        , 0.        , 0.        , 0.        ,\n",
       "       0.        , 0.00351415, 0.        , 0.        , 0.00271918,\n",
       "       0.00349067, 0.        , 0.        ])"
      ]
     },
     "execution_count": 39,
     "metadata": {},
     "output_type": "execute_result"
    }
   ],
   "source": [
    "cosine_similarities_tweets = linear_kernel(tfidf_matrix_tweets, tfidf_matrix_tweets)\n",
    "cosine_similarities_tweets[0]"
   ]
  },
  {
   "cell_type": "code",
   "execution_count": 40,
   "metadata": {},
   "outputs": [
    {
     "data": {
      "text/plain": [
       "array([1., 0., 0., ..., 1., 0., 0.])"
      ]
     },
     "execution_count": 40,
     "metadata": {},
     "output_type": "execute_result"
    }
   ],
   "source": [
    "cosine_similarities_newss = linear_kernel(tfidf_matrix_news, tfidf_matrix_news)\n",
    "cosine_similarities_news[0]"
   ]
  },
  {
   "cell_type": "code",
   "execution_count": 41,
   "metadata": {},
   "outputs": [
    {
     "data": {
      "text/plain": [
       "id\n",
       "0    0\n",
       "1    1\n",
       "2    2\n",
       "3    3\n",
       "4    4\n",
       "dtype: int64"
      ]
     },
     "execution_count": 41,
     "metadata": {},
     "output_type": "execute_result"
    }
   ],
   "source": [
    "postid = tweets['id']\n",
    "tweet_indices = pd.Series(tweets.index, index=tweets['id'])\n",
    "tweet_indices.head()"
   ]
  },
  {
   "cell_type": "code",
   "execution_count": 42,
   "metadata": {},
   "outputs": [
    {
     "data": {
      "text/plain": [
       "id\n",
       "0    0\n",
       "1    1\n",
       "2    2\n",
       "3    3\n",
       "4    4\n",
       "dtype: int64"
      ]
     },
     "execution_count": 42,
     "metadata": {},
     "output_type": "execute_result"
    }
   ],
   "source": [
    "postid = news['id']\n",
    "news_indices = pd.Series(news.index, index=news['id'])\n",
    "news_indices.head()"
   ]
  },
  {
   "cell_type": "code",
   "execution_count": 43,
   "metadata": {},
   "outputs": [
    {
     "name": "stdout",
     "output_type": "stream",
     "text": [
      "[(11, 0.12002190951147645), (12, 0.03612931290944911), (33, 0.026318895616060947)]\n",
      "Recommending 3 posts similar to \"Vaccine\" ...\n"
     ]
    },
    {
     "data": {
      "text/html": [
       "<div>\n",
       "<style scoped>\n",
       "    .dataframe tbody tr th:only-of-type {\n",
       "        vertical-align: middle;\n",
       "    }\n",
       "\n",
       "    .dataframe tbody tr th {\n",
       "        vertical-align: top;\n",
       "    }\n",
       "\n",
       "    .dataframe thead th {\n",
       "        text-align: right;\n",
       "    }\n",
       "</style>\n",
       "<table border=\"1\" class=\"dataframe\">\n",
       "  <thead>\n",
       "    <tr style=\"text-align: right;\">\n",
       "      <th></th>\n",
       "      <th>id</th>\n",
       "      <th>topic</th>\n",
       "      <th>tweet</th>\n",
       "      <th>tweet_id</th>\n",
       "      <th>mix</th>\n",
       "    </tr>\n",
       "  </thead>\n",
       "  <tbody>\n",
       "    <tr>\n",
       "      <th>11</th>\n",
       "      <td>11</td>\n",
       "      <td>Covid 19</td>\n",
       "      <td>complete lack of adherence to covid appropriat...</td>\n",
       "      <td>1371131251113926660</td>\n",
       "      <td>complete lack of adherence to covid appropriat...</td>\n",
       "    </tr>\n",
       "    <tr>\n",
       "      <th>12</th>\n",
       "      <td>12</td>\n",
       "      <td>Covid 19</td>\n",
       "      <td>india has registered over 25000 cases in the l...</td>\n",
       "      <td>1371130574874677249</td>\n",
       "      <td>india has registered over 25000 cases in the l...</td>\n",
       "    </tr>\n",
       "    <tr>\n",
       "      <th>33</th>\n",
       "      <td>33</td>\n",
       "      <td>Election</td>\n",
       "      <td>it has now been proved that the 'eyewitnesses'...</td>\n",
       "      <td>1371126932373303296</td>\n",
       "      <td>it has now been proved that the 'eyewitnesses'...</td>\n",
       "    </tr>\n",
       "  </tbody>\n",
       "</table>\n",
       "</div>"
      ],
      "text/plain": [
       "    id     topic                                              tweet  \\\n",
       "11  11  Covid 19  complete lack of adherence to covid appropriat...   \n",
       "12  12  Covid 19  india has registered over 25000 cases in the l...   \n",
       "33  33  Election  it has now been proved that the 'eyewitnesses'...   \n",
       "\n",
       "               tweet_id                                                mix  \n",
       "11  1371131251113926660  complete lack of adherence to covid appropriat...  \n",
       "12  1371130574874677249  india has registered over 25000 cases in the l...  \n",
       "33  1371126932373303296  it has now been proved that the 'eyewitnesses'...  "
      ]
     },
     "execution_count": 43,
     "metadata": {},
     "output_type": "execute_result"
    }
   ],
   "source": [
    "get_tweet_recommendations(5, 3, tweet_indices)"
   ]
  },
  {
   "cell_type": "code",
   "execution_count": 44,
   "metadata": {},
   "outputs": [
    {
     "name": "stdout",
     "output_type": "stream",
     "text": [
      "[(5, 1.0), (6, 1.0), (7, 1.0)]\n",
      "Recommending 3 posts similar to \"Technology\" ...\n"
     ]
    },
    {
     "data": {
      "text/html": [
       "<div>\n",
       "<style scoped>\n",
       "    .dataframe tbody tr th:only-of-type {\n",
       "        vertical-align: middle;\n",
       "    }\n",
       "\n",
       "    .dataframe tbody tr th {\n",
       "        vertical-align: top;\n",
       "    }\n",
       "\n",
       "    .dataframe thead th {\n",
       "        text-align: right;\n",
       "    }\n",
       "</style>\n",
       "<table border=\"1\" class=\"dataframe\">\n",
       "  <thead>\n",
       "    <tr style=\"text-align: right;\">\n",
       "      <th></th>\n",
       "      <th>id</th>\n",
       "      <th>topic</th>\n",
       "      <th>headline</th>\n",
       "      <th>article</th>\n",
       "      <th>mix</th>\n",
       "    </tr>\n",
       "  </thead>\n",
       "  <tbody>\n",
       "    <tr>\n",
       "      <th>5</th>\n",
       "      <td>5</td>\n",
       "      <td>Technology</td>\n",
       "      <td>Apple shuts Music Memos app, asks users to exp...</td>\n",
       "      <td>Apple has announced that it's discontinuing it...</td>\n",
       "      <td>Apple has announced that it's discontinuing it...</td>\n",
       "    </tr>\n",
       "    <tr>\n",
       "      <th>6</th>\n",
       "      <td>6</td>\n",
       "      <td>Technology</td>\n",
       "      <td>28% Indians hide real identities on social med...</td>\n",
       "      <td>Global cybersecurity firm Kaspersky in its rep...</td>\n",
       "      <td>Global cybersecurity firm Kaspersky in its rep...</td>\n",
       "    </tr>\n",
       "    <tr>\n",
       "      <th>7</th>\n",
       "      <td>7</td>\n",
       "      <td>Technology</td>\n",
       "      <td>Malware campaign adding extensions in Chrome, ...</td>\n",
       "      <td>Google Chrome, Firefox and other browsers are ...</td>\n",
       "      <td>Google Chrome, Firefox and other browsers are ...</td>\n",
       "    </tr>\n",
       "  </tbody>\n",
       "</table>\n",
       "</div>"
      ],
      "text/plain": [
       "   id       topic                                           headline  \\\n",
       "5   5  Technology  Apple shuts Music Memos app, asks users to exp...   \n",
       "6   6  Technology  28% Indians hide real identities on social med...   \n",
       "7   7  Technology  Malware campaign adding extensions in Chrome, ...   \n",
       "\n",
       "                                             article  \\\n",
       "5  Apple has announced that it's discontinuing it...   \n",
       "6  Global cybersecurity firm Kaspersky in its rep...   \n",
       "7  Google Chrome, Firefox and other browsers are ...   \n",
       "\n",
       "                                                 mix  \n",
       "5  Apple has announced that it's discontinuing it...  \n",
       "6  Global cybersecurity firm Kaspersky in its rep...  \n",
       "7  Google Chrome, Firefox and other browsers are ...  "
      ]
     },
     "execution_count": 44,
     "metadata": {},
     "output_type": "execute_result"
    }
   ],
   "source": [
    "get_news_recommendations(5, 3, news_indices)"
   ]
  }
 ],
 "metadata": {
  "kernelspec": {
   "display_name": "Python 3",
   "language": "python",
   "name": "python3"
  },
  "language_info": {
   "codemirror_mode": {
    "name": "ipython",
    "version": 3
   },
   "file_extension": ".py",
   "mimetype": "text/x-python",
   "name": "python",
   "nbconvert_exporter": "python",
   "pygments_lexer": "ipython3",
   "version": "3.8.3"
  }
 },
 "nbformat": 4,
 "nbformat_minor": 4
}
